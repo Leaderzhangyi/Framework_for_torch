{
 "cells": [
  {
   "cell_type": "code",
   "execution_count": 26,
   "metadata": {},
   "outputs": [],
   "source": [
    "import pandas as pd \n",
    "from pandas.plotting import scatter_matrix\n",
    "from sklearn.decomposition import PCA\n",
    "import numpy as np "
   ]
  },
  {
   "cell_type": "code",
   "execution_count": 9,
   "metadata": {},
   "outputs": [],
   "source": [
    "def read_data(path):\n",
    "    data = pd.read_csv(path)\n",
    "    data[\"CDATETIME\"] = pd.to_datetime(data[\"CDATETIME\"])\n",
    "    data.set_index('CDATETIME', inplace=True, drop=True)\n",
    "    data.sort_index(inplace=True)\n",
    "    data.drop(columns=[\"燃料实际配比01\", \"燃料实际配比02\"], inplace=True)\n",
    "    return data"
   ]
  },
  {
   "cell_type": "code",
   "execution_count": 10,
   "metadata": {},
   "outputs": [],
   "source": [
    "df = read_data(\"data.csv\")"
   ]
  },
  {
   "cell_type": "code",
   "execution_count": 20,
   "metadata": {},
   "outputs": [],
   "source": [
    "tdf = df[[\"点火炉炉膛温度\",\"保温炉一段温度\",\"1#风箱废气温度-南\",\"2#风箱废气温度-南\",\"3#风箱废气温度-南\",\"4#风箱废气温度-南\",\"5#风箱废气温度-南\",\"1#风箱废气温度-北\",\"2#风箱废气温度-北\",\"3#风箱废气温度-北\",\"4#风箱废气温度-北\",\"5#风箱废气温度-北\"]]\n",
    "ttdf = df[[\"1#风箱负压\",\"2#风箱负压\",\"3#风箱负压\",\"4#风箱负压\",\"5#风箱负压\",\"保温炉一段负压\",\"保温炉二段负压\",\"点火炉炉膛负压-01\",\"点火炉炉膛负压-02\"]]"
   ]
  },
  {
   "cell_type": "code",
   "execution_count": 17,
   "metadata": {},
   "outputs": [],
   "source": [
    "data_string = \"26#风箱废气温度-北 27#风箱废气温度-北 28#风箱废气温度-北 29#风箱废气温度-北 30#风箱废气温度-北 26#风箱废气温度-南 27#风箱废气温度-南 28#风箱废气温度-南 29#风箱废气温度-南 30#风箱废气温度-南 TBTP\"\n",
    "mdf = df[data_string.split()]"
   ]
  },
  {
   "cell_type": "code",
   "execution_count": 3,
   "metadata": {},
   "outputs": [],
   "source": [
    "from sklearn.decomposition import PCA"
   ]
  },
  {
   "cell_type": "code",
   "execution_count": 4,
   "metadata": {},
   "outputs": [],
   "source": [
    "pca = PCA(n_components=2)"
   ]
  },
  {
   "cell_type": "code",
   "execution_count": 15,
   "metadata": {},
   "outputs": [],
   "source": [
    "tdf_pca = pca.fit_transform(tdf)"
   ]
  },
  {
   "cell_type": "code",
   "execution_count": 19,
   "metadata": {},
   "outputs": [],
   "source": [
    "mdf_pca = pca.fit_transform(mdf)"
   ]
  },
  {
   "cell_type": "code",
   "execution_count": 22,
   "metadata": {},
   "outputs": [],
   "source": [
    "ttdf_pca = pca.fit_transform(ttdf)"
   ]
  },
  {
   "cell_type": "code",
   "execution_count": 24,
   "metadata": {},
   "outputs": [
    {
     "data": {
      "text/plain": [
       "CDATETIME\n",
       "2023-07-01 02:29:00    4.331166\n",
       "2023-07-01 02:30:00    4.266674\n",
       "2023-07-01 02:31:00    4.281174\n",
       "2023-07-01 02:32:00    4.323701\n",
       "2023-07-01 02:33:00    4.334259\n",
       "                         ...   \n",
       "2023-09-22 15:40:00    4.184947\n",
       "2023-09-22 15:41:00    4.274165\n",
       "2023-09-22 15:42:00    4.128072\n",
       "2023-09-22 15:43:00    4.217735\n",
       "2023-09-22 15:44:00    4.190367\n",
       "Name: 燃料实际配比, Length: 94780, dtype: float64"
      ]
     },
     "execution_count": 24,
     "metadata": {},
     "output_type": "execute_result"
    }
   ],
   "source": [
    "df[\"燃料实际配比\"]"
   ]
  },
  {
   "cell_type": "code",
   "execution_count": 25,
   "metadata": {},
   "outputs": [
    {
     "data": {
      "text/plain": [
       "array([[ 28.81442869, -12.58684097],\n",
       "       [ 28.66298471, -12.57397822],\n",
       "       [ 28.38957474, -12.21397179],\n",
       "       ...,\n",
       "       [ 61.6680262 , -20.97273707],\n",
       "       [ 64.62809855, -19.66845928],\n",
       "       [ 66.78650328, -17.74748789]])"
      ]
     },
     "execution_count": 25,
     "metadata": {},
     "output_type": "execute_result"
    }
   ],
   "source": [
    "tdf_pca"
   ]
  },
  {
   "cell_type": "code",
   "execution_count": 32,
   "metadata": {},
   "outputs": [],
   "source": [
    "newdata = np.c_[tdf_pca,ttdf_pca,mdf_pca,df[\"燃料实际配比\"]]"
   ]
  },
  {
   "cell_type": "code",
   "execution_count": 34,
   "metadata": {},
   "outputs": [],
   "source": [
    "pd.DataFrame(newdata,columns=[\"a\",\"b\",\"c\",\"d\",\"e\",\"f\",\"燃料实际配比\"]).to_csv(\"newdata.csv\",index=False)"
   ]
  },
  {
   "cell_type": "code",
   "execution_count": null,
   "metadata": {},
   "outputs": [],
   "source": []
  }
 ],
 "metadata": {
  "kernelspec": {
   "display_name": "base",
   "language": "python",
   "name": "python3"
  },
  "language_info": {
   "codemirror_mode": {
    "name": "ipython",
    "version": 3
   },
   "file_extension": ".py",
   "mimetype": "text/x-python",
   "name": "python",
   "nbconvert_exporter": "python",
   "pygments_lexer": "ipython3",
   "version": "3.11.5"
  }
 },
 "nbformat": 4,
 "nbformat_minor": 2
}
